{
 "cells": [
  {
   "cell_type": "markdown",
   "id": "097d26a7",
   "metadata": {},
   "source": [
    "# My first notebook\n",
    "## whats up here \n",
    "* fun\n",
    "* explore"
   ]
  },
  {
   "cell_type": "code",
   "execution_count": 4,
   "id": "f979e8c7",
   "metadata": {},
   "outputs": [],
   "source": [
    "import statistics"
   ]
  },
  {
   "cell_type": "code",
   "execution_count": null,
   "id": "30b4be49",
   "metadata": {},
   "outputs": [],
   "source": []
  },
  {
   "cell_type": "code",
   "execution_count": null,
   "id": "d8683c27",
   "metadata": {},
   "outputs": [],
   "source": [
    "statistics"
   ]
  },
  {
   "cell_type": "code",
   "execution_count": 3,
   "id": "f1264bdf",
   "metadata": {},
   "outputs": [
    {
     "data": {
      "text/plain": [
       "'DogDogDog'"
      ]
     },
     "execution_count": 3,
     "metadata": {},
     "output_type": "execute_result"
    }
   ],
   "source": [
    "animal = 'Dog'\n",
    "animal*3"
   ]
  }
 ],
 "metadata": {
  "kernelspec": {
   "display_name": "Python 3 (ipykernel)",
   "language": "python",
   "name": "python3"
  },
  "language_info": {
   "codemirror_mode": {
    "name": "ipython",
    "version": 3
   },
   "file_extension": ".py",
   "mimetype": "text/x-python",
   "name": "python",
   "nbconvert_exporter": "python",
   "pygments_lexer": "ipython3",
   "version": "3.9.13"
  }
 },
 "nbformat": 4,
 "nbformat_minor": 5
}
